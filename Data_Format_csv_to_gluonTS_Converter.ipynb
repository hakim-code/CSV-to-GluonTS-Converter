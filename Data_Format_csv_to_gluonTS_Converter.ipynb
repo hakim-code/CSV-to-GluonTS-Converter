{
  "nbformat": 4,
  "nbformat_minor": 0,
  "metadata": {
    "colab": {
      "provenance": [],
      "authorship_tag": "ABX9TyOt+8VqO2OM/qysMRaL4RGJ",
      "include_colab_link": true
    },
    "kernelspec": {
      "name": "python3",
      "display_name": "Python 3"
    },
    "language_info": {
      "name": "python"
    }
  },
  "cells": [
    {
      "cell_type": "markdown",
      "metadata": {
        "id": "view-in-github",
        "colab_type": "text"
      },
      "source": [
        "<a href=\"https://colab.research.google.com/github/hakim-code/CSV-to-GluonTS-Converter/blob/update-structure-and-description/Data_Format_csv_to_gluonTS_Converter.ipynb\" target=\"_parent\"><img src=\"https://colab.research.google.com/assets/colab-badge.svg\" alt=\"Open In Colab\"/></a>"
      ]
    },
    {
      "cell_type": "code",
      "source": [
        "!pip install -q datasets gluonts orjson mxnet"
      ],
      "metadata": {
        "colab": {
          "base_uri": "https://localhost:8080/"
        },
        "id": "KCbsbQWp0wc7",
        "outputId": "eafa7d24-2ee5-4872-a5fe-3d7ecc7e4c35"
      },
      "execution_count": 44,
      "outputs": [
        {
          "output_type": "stream",
          "name": "stdout",
          "text": [
            "\u001b[2K     \u001b[90m━━━━━━━━━━━━━━━━━━━━━━━━━━━━━━━━━━━━━━━━\u001b[0m \u001b[32m507.1/507.1 kB\u001b[0m \u001b[31m3.3 MB/s\u001b[0m eta \u001b[36m0:00:00\u001b[0m\n",
            "\u001b[2K     \u001b[90m━━━━━━━━━━━━━━━━━━━━━━━━━━━━━━━━━━━━━━━━\u001b[0m \u001b[32m138.7/138.7 kB\u001b[0m \u001b[31m14.2 MB/s\u001b[0m eta \u001b[36m0:00:00\u001b[0m\n",
            "\u001b[2K     \u001b[90m━━━━━━━━━━━━━━━━━━━━━━━━━━━━━━━━━━━━━━━━\u001b[0m \u001b[32m115.3/115.3 kB\u001b[0m \u001b[31m14.0 MB/s\u001b[0m eta \u001b[36m0:00:00\u001b[0m\n",
            "\u001b[2K     \u001b[90m━━━━━━━━━━━━━━━━━━━━━━━━━━━━━━━━━━━━━━━━\u001b[0m \u001b[32m134.8/134.8 kB\u001b[0m \u001b[31m14.9 MB/s\u001b[0m eta \u001b[36m0:00:00\u001b[0m\n",
            "\u001b[?25h"
          ]
        }
      ]
    },
    {
      "cell_type": "code",
      "source": [
        "import pandas as pd\n",
        "import numpy as np\n",
        "from datasets import Dataset, Features, Value, Sequence\n",
        "from typing import cast\n",
        "from gluonts.mx import DeepAREstimator, Trainer\n",
        "from gluonts.dataset.pandas import PandasDataset\n",
        "from gluonts.evaluation import make_evaluation_predictions, Evaluator"
      ],
      "metadata": {
        "id": "43WwCaW-tiCs"
      },
      "execution_count": 45,
      "outputs": []
    },
    {
      "cell_type": "markdown",
      "source": [
        "# Time Series Datasets"
      ],
      "metadata": {
        "id": "iJ6NBcsVzcoO"
      }
    },
    {
      "cell_type": "markdown",
      "source": [
        "#1: Pandas dataset:\n",
        "* Import\n",
        "* Dataframe summary"
      ],
      "metadata": {
        "id": "93F8DNzIzmOE"
      }
    },
    {
      "cell_type": "code",
      "source": [
        "path = \"/content/PJME_hourly_shorted.csv\"\n",
        "df = pd.read_csv(path,  index_col=0,  parse_dates=True) #index_col=0,\n",
        "\n",
        "df.index = pd.DatetimeIndex(df.index)\n",
        "df.head(5)"
      ],
      "metadata": {
        "colab": {
          "base_uri": "https://localhost:8080/",
          "height": 238
        },
        "id": "-o1VmQpuzdbx",
        "outputId": "65b51ecd-25b1-4f76-ae7b-72f981e2967f"
      },
      "execution_count": 38,
      "outputs": [
        {
          "output_type": "execute_result",
          "data": {
            "text/plain": [
              "                     PJME_MW\n",
              "Datetime                    \n",
              "2002-01-02 00:00:00    29563\n",
              "2002-01-02 01:00:00    28121\n",
              "2002-01-02 02:00:00    27437\n",
              "2002-01-02 03:00:00    27301\n",
              "2002-01-02 04:00:00    27533"
            ],
            "text/html": [
              "\n",
              "  <div id=\"df-b5ccd05d-85f8-46d2-978e-af3d88e093c1\" class=\"colab-df-container\">\n",
              "    <div>\n",
              "<style scoped>\n",
              "    .dataframe tbody tr th:only-of-type {\n",
              "        vertical-align: middle;\n",
              "    }\n",
              "\n",
              "    .dataframe tbody tr th {\n",
              "        vertical-align: top;\n",
              "    }\n",
              "\n",
              "    .dataframe thead th {\n",
              "        text-align: right;\n",
              "    }\n",
              "</style>\n",
              "<table border=\"1\" class=\"dataframe\">\n",
              "  <thead>\n",
              "    <tr style=\"text-align: right;\">\n",
              "      <th></th>\n",
              "      <th>PJME_MW</th>\n",
              "    </tr>\n",
              "    <tr>\n",
              "      <th>Datetime</th>\n",
              "      <th></th>\n",
              "    </tr>\n",
              "  </thead>\n",
              "  <tbody>\n",
              "    <tr>\n",
              "      <th>2002-01-02 00:00:00</th>\n",
              "      <td>29563</td>\n",
              "    </tr>\n",
              "    <tr>\n",
              "      <th>2002-01-02 01:00:00</th>\n",
              "      <td>28121</td>\n",
              "    </tr>\n",
              "    <tr>\n",
              "      <th>2002-01-02 02:00:00</th>\n",
              "      <td>27437</td>\n",
              "    </tr>\n",
              "    <tr>\n",
              "      <th>2002-01-02 03:00:00</th>\n",
              "      <td>27301</td>\n",
              "    </tr>\n",
              "    <tr>\n",
              "      <th>2002-01-02 04:00:00</th>\n",
              "      <td>27533</td>\n",
              "    </tr>\n",
              "  </tbody>\n",
              "</table>\n",
              "</div>\n",
              "    <div class=\"colab-df-buttons\">\n",
              "\n",
              "  <div class=\"colab-df-container\">\n",
              "    <button class=\"colab-df-convert\" onclick=\"convertToInteractive('df-b5ccd05d-85f8-46d2-978e-af3d88e093c1')\"\n",
              "            title=\"Convert this dataframe to an interactive table.\"\n",
              "            style=\"display:none;\">\n",
              "\n",
              "  <svg xmlns=\"http://www.w3.org/2000/svg\" height=\"24px\" viewBox=\"0 -960 960 960\">\n",
              "    <path d=\"M120-120v-720h720v720H120Zm60-500h600v-160H180v160Zm220 220h160v-160H400v160Zm0 220h160v-160H400v160ZM180-400h160v-160H180v160Zm440 0h160v-160H620v160ZM180-180h160v-160H180v160Zm440 0h160v-160H620v160Z\"/>\n",
              "  </svg>\n",
              "    </button>\n",
              "\n",
              "  <style>\n",
              "    .colab-df-container {\n",
              "      display:flex;\n",
              "      gap: 12px;\n",
              "    }\n",
              "\n",
              "    .colab-df-convert {\n",
              "      background-color: #E8F0FE;\n",
              "      border: none;\n",
              "      border-radius: 50%;\n",
              "      cursor: pointer;\n",
              "      display: none;\n",
              "      fill: #1967D2;\n",
              "      height: 32px;\n",
              "      padding: 0 0 0 0;\n",
              "      width: 32px;\n",
              "    }\n",
              "\n",
              "    .colab-df-convert:hover {\n",
              "      background-color: #E2EBFA;\n",
              "      box-shadow: 0px 1px 2px rgba(60, 64, 67, 0.3), 0px 1px 3px 1px rgba(60, 64, 67, 0.15);\n",
              "      fill: #174EA6;\n",
              "    }\n",
              "\n",
              "    .colab-df-buttons div {\n",
              "      margin-bottom: 4px;\n",
              "    }\n",
              "\n",
              "    [theme=dark] .colab-df-convert {\n",
              "      background-color: #3B4455;\n",
              "      fill: #D2E3FC;\n",
              "    }\n",
              "\n",
              "    [theme=dark] .colab-df-convert:hover {\n",
              "      background-color: #434B5C;\n",
              "      box-shadow: 0px 1px 3px 1px rgba(0, 0, 0, 0.15);\n",
              "      filter: drop-shadow(0px 1px 2px rgba(0, 0, 0, 0.3));\n",
              "      fill: #FFFFFF;\n",
              "    }\n",
              "  </style>\n",
              "\n",
              "    <script>\n",
              "      const buttonEl =\n",
              "        document.querySelector('#df-b5ccd05d-85f8-46d2-978e-af3d88e093c1 button.colab-df-convert');\n",
              "      buttonEl.style.display =\n",
              "        google.colab.kernel.accessAllowed ? 'block' : 'none';\n",
              "\n",
              "      async function convertToInteractive(key) {\n",
              "        const element = document.querySelector('#df-b5ccd05d-85f8-46d2-978e-af3d88e093c1');\n",
              "        const dataTable =\n",
              "          await google.colab.kernel.invokeFunction('convertToInteractive',\n",
              "                                                    [key], {});\n",
              "        if (!dataTable) return;\n",
              "\n",
              "        const docLinkHtml = 'Like what you see? Visit the ' +\n",
              "          '<a target=\"_blank\" href=https://colab.research.google.com/notebooks/data_table.ipynb>data table notebook</a>'\n",
              "          + ' to learn more about interactive tables.';\n",
              "        element.innerHTML = '';\n",
              "        dataTable['output_type'] = 'display_data';\n",
              "        await google.colab.output.renderOutput(dataTable, element);\n",
              "        const docLink = document.createElement('div');\n",
              "        docLink.innerHTML = docLinkHtml;\n",
              "        element.appendChild(docLink);\n",
              "      }\n",
              "    </script>\n",
              "  </div>\n",
              "\n",
              "\n",
              "<div id=\"df-72a914cb-46bf-4263-ab56-168272ff0592\">\n",
              "  <button class=\"colab-df-quickchart\" onclick=\"quickchart('df-72a914cb-46bf-4263-ab56-168272ff0592')\"\n",
              "            title=\"Suggest charts\"\n",
              "            style=\"display:none;\">\n",
              "\n",
              "<svg xmlns=\"http://www.w3.org/2000/svg\" height=\"24px\"viewBox=\"0 0 24 24\"\n",
              "     width=\"24px\">\n",
              "    <g>\n",
              "        <path d=\"M19 3H5c-1.1 0-2 .9-2 2v14c0 1.1.9 2 2 2h14c1.1 0 2-.9 2-2V5c0-1.1-.9-2-2-2zM9 17H7v-7h2v7zm4 0h-2V7h2v10zm4 0h-2v-4h2v4z\"/>\n",
              "    </g>\n",
              "</svg>\n",
              "  </button>\n",
              "\n",
              "<style>\n",
              "  .colab-df-quickchart {\n",
              "      --bg-color: #E8F0FE;\n",
              "      --fill-color: #1967D2;\n",
              "      --hover-bg-color: #E2EBFA;\n",
              "      --hover-fill-color: #174EA6;\n",
              "      --disabled-fill-color: #AAA;\n",
              "      --disabled-bg-color: #DDD;\n",
              "  }\n",
              "\n",
              "  [theme=dark] .colab-df-quickchart {\n",
              "      --bg-color: #3B4455;\n",
              "      --fill-color: #D2E3FC;\n",
              "      --hover-bg-color: #434B5C;\n",
              "      --hover-fill-color: #FFFFFF;\n",
              "      --disabled-bg-color: #3B4455;\n",
              "      --disabled-fill-color: #666;\n",
              "  }\n",
              "\n",
              "  .colab-df-quickchart {\n",
              "    background-color: var(--bg-color);\n",
              "    border: none;\n",
              "    border-radius: 50%;\n",
              "    cursor: pointer;\n",
              "    display: none;\n",
              "    fill: var(--fill-color);\n",
              "    height: 32px;\n",
              "    padding: 0;\n",
              "    width: 32px;\n",
              "  }\n",
              "\n",
              "  .colab-df-quickchart:hover {\n",
              "    background-color: var(--hover-bg-color);\n",
              "    box-shadow: 0 1px 2px rgba(60, 64, 67, 0.3), 0 1px 3px 1px rgba(60, 64, 67, 0.15);\n",
              "    fill: var(--button-hover-fill-color);\n",
              "  }\n",
              "\n",
              "  .colab-df-quickchart-complete:disabled,\n",
              "  .colab-df-quickchart-complete:disabled:hover {\n",
              "    background-color: var(--disabled-bg-color);\n",
              "    fill: var(--disabled-fill-color);\n",
              "    box-shadow: none;\n",
              "  }\n",
              "\n",
              "  .colab-df-spinner {\n",
              "    border: 2px solid var(--fill-color);\n",
              "    border-color: transparent;\n",
              "    border-bottom-color: var(--fill-color);\n",
              "    animation:\n",
              "      spin 1s steps(1) infinite;\n",
              "  }\n",
              "\n",
              "  @keyframes spin {\n",
              "    0% {\n",
              "      border-color: transparent;\n",
              "      border-bottom-color: var(--fill-color);\n",
              "      border-left-color: var(--fill-color);\n",
              "    }\n",
              "    20% {\n",
              "      border-color: transparent;\n",
              "      border-left-color: var(--fill-color);\n",
              "      border-top-color: var(--fill-color);\n",
              "    }\n",
              "    30% {\n",
              "      border-color: transparent;\n",
              "      border-left-color: var(--fill-color);\n",
              "      border-top-color: var(--fill-color);\n",
              "      border-right-color: var(--fill-color);\n",
              "    }\n",
              "    40% {\n",
              "      border-color: transparent;\n",
              "      border-right-color: var(--fill-color);\n",
              "      border-top-color: var(--fill-color);\n",
              "    }\n",
              "    60% {\n",
              "      border-color: transparent;\n",
              "      border-right-color: var(--fill-color);\n",
              "    }\n",
              "    80% {\n",
              "      border-color: transparent;\n",
              "      border-right-color: var(--fill-color);\n",
              "      border-bottom-color: var(--fill-color);\n",
              "    }\n",
              "    90% {\n",
              "      border-color: transparent;\n",
              "      border-bottom-color: var(--fill-color);\n",
              "    }\n",
              "  }\n",
              "</style>\n",
              "\n",
              "  <script>\n",
              "    async function quickchart(key) {\n",
              "      const quickchartButtonEl =\n",
              "        document.querySelector('#' + key + ' button');\n",
              "      quickchartButtonEl.disabled = true;  // To prevent multiple clicks.\n",
              "      quickchartButtonEl.classList.add('colab-df-spinner');\n",
              "      try {\n",
              "        const charts = await google.colab.kernel.invokeFunction(\n",
              "            'suggestCharts', [key], {});\n",
              "      } catch (error) {\n",
              "        console.error('Error during call to suggestCharts:', error);\n",
              "      }\n",
              "      quickchartButtonEl.classList.remove('colab-df-spinner');\n",
              "      quickchartButtonEl.classList.add('colab-df-quickchart-complete');\n",
              "    }\n",
              "    (() => {\n",
              "      let quickchartButtonEl =\n",
              "        document.querySelector('#df-72a914cb-46bf-4263-ab56-168272ff0592 button');\n",
              "      quickchartButtonEl.style.display =\n",
              "        google.colab.kernel.accessAllowed ? 'block' : 'none';\n",
              "    })();\n",
              "  </script>\n",
              "</div>\n",
              "    </div>\n",
              "  </div>\n"
            ]
          },
          "metadata": {},
          "execution_count": 38
        }
      ]
    },
    {
      "cell_type": "code",
      "source": [
        "# Getting the shape\n",
        "print(\"Shape of the DataFrame:\", df.shape)\n",
        "\n",
        "# Getting the total number of elements\n",
        "print(\"Total number of elements:\", df.size)\n",
        "\n",
        "# Getting the number of rows\n",
        "print(\"Number of rows:\", len(df))\n",
        "\n",
        "# Getting the number of columns\n",
        "print(\"Number of columns:\", df.shape[1])\n",
        "\n",
        "# Getting detailed info\n",
        "df.info()"
      ],
      "metadata": {
        "colab": {
          "base_uri": "https://localhost:8080/"
        },
        "id": "MgbYsCNYOjHa",
        "outputId": "8909a889-f797-48f1-e16f-031028eaf61e"
      },
      "execution_count": 50,
      "outputs": [
        {
          "output_type": "stream",
          "name": "stdout",
          "text": [
            "Shape of the DataFrame: (1392, 1)\n",
            "Total number of elements: 1392\n",
            "Number of rows: 1392\n",
            "Number of columns: 1\n",
            "<class 'pandas.core.frame.DataFrame'>\n",
            "DatetimeIndex: 1392 entries, 2002-01-02 00:00:00 to 2002-02-28 23:00:00\n",
            "Data columns (total 1 columns):\n",
            " #   Column   Non-Null Count  Dtype\n",
            "---  ------   --------------  -----\n",
            " 0   PJME_MW  1392 non-null   int64\n",
            "dtypes: int64(1)\n",
            "memory usage: 21.8 KB\n"
          ]
        }
      ]
    },
    {
      "cell_type": "markdown",
      "source": [
        "##1.1: Dataset Cleaning\n",
        "  \n",
        "\n",
        "*   NaN Value (empty cell)\n",
        "*   Duplicate items\n",
        "\n",
        "\n"
      ],
      "metadata": {
        "id": "ZiXXYSb_NcSE"
      }
    },
    {
      "cell_type": "code",
      "source": [
        "# If there are any NaN values, print their locations\n",
        "nan_rows = df[df.isnull().any(axis=1)]\n",
        "if not nan_rows.empty:\n",
        "    print(\"NaN values found at the following locations:\")\n",
        "    print(nan_rows)\n",
        "\n",
        "duplicate_times = df.index[df.index.duplicated()].unique()\n",
        "# If there are any duplicate times, print them\n",
        "if len(duplicate_times) > 0:\n",
        "    print(\"Duplicate datetimes found:\")\n",
        "    print(duplicate_times)\n",
        "\n",
        "\n"
      ],
      "metadata": {
        "id": "SwfakOPC-6EG"
      },
      "execution_count": 27,
      "outputs": []
    },
    {
      "cell_type": "markdown",
      "source": [
        "##1.2: Dataset Cleaning: Frequency checker\n",
        "  \n",
        "\n",
        "*   Frequency of the data of the data must be exact. Is there any seconds which exceeds or less than an hour the frequency can not be inferred.\n",
        "*   if any export them in excel data\n"
      ],
      "metadata": {
        "id": "AOYbOfraN9IV"
      }
    },
    {
      "cell_type": "code",
      "source": [
        "# Create a full range of hourly timestamps expected in the DataFrame\n",
        "full_range = pd.date_range(start=df.index.min(), end=df.index.max(), freq='H')\n",
        "\n",
        "# Identify missing timestamps by comparing the full range with the DataFrame's index\n",
        "missing_timestamps = full_range.difference(df.index)\n",
        "\n",
        "# If there are any missing timestamps, print their locations and export to Excel\n",
        "if missing_timestamps.size > 0:\n",
        "    print(\"The following timestamps are missing:\")\n",
        "    print(missing_timestamps)\n",
        "\n",
        "    # Convert the missing timestamps to a DataFrame\n",
        "    missing_df = pd.DataFrame(missing_timestamps, columns=['Missing Timestamps'])\n",
        "\n",
        "    # Export the missing timestamps to an Excel file\n",
        "    missing_df.to_excel('/content/missing_timestamps.xlsx', index=False)\n",
        "\n",
        "    print(\"Missing timestamps have been exported to Excel.\")\n",
        "else:\n",
        "    print(\"The frequency is consistent and there are no missing hourly timestamps.\")\n"
      ],
      "metadata": {
        "colab": {
          "base_uri": "https://localhost:8080/"
        },
        "id": "ayztiZwPCKZm",
        "outputId": "7bef90c6-418c-413c-a0ae-dd78502f5222"
      },
      "execution_count": 28,
      "outputs": [
        {
          "output_type": "stream",
          "name": "stdout",
          "text": [
            "The frequency is consistent and there are no missing hourly timestamps.\n"
          ]
        }
      ]
    },
    {
      "cell_type": "code",
      "source": [
        "inferred_freq = pd.infer_freq(df.index)\n",
        "print(inferred_freq)\n",
        "if inferred_freq:\n",
        "    print(f\"Inferred frequency from the DataFrame: {inferred_freq}\")\n",
        "\n",
        "    # Create a full range of datetimes with the inferred frequency and compare with the existing index\n",
        "    full_range = pd.date_range(start=df.index.min(), end=df.index.max(), freq=inferred_freq)\n",
        "    missing_times = full_range.difference(df.index)\n",
        "\n",
        "    # If there are any missing times, print them\n",
        "    if len(missing_times) > 0:\n",
        "        print(\"Missing datetimes found:\")\n",
        "        print(missing_times)\n",
        "    else:\n",
        "        print(\"No missing datetimes. The frequency is consistent.\")\n",
        "else:\n",
        "    print(\"Could not infer a consistent frequency from the DataFrame index.\")\n"
      ],
      "metadata": {
        "colab": {
          "base_uri": "https://localhost:8080/"
        },
        "id": "OAas98Y5FtiY",
        "outputId": "ff653e76-ce2c-4fad-dded-ad27e54aa955"
      },
      "execution_count": 29,
      "outputs": [
        {
          "output_type": "stream",
          "name": "stdout",
          "text": [
            "H\n",
            "Inferred frequency from the DataFrame: H\n",
            "No missing datetimes. The frequency is consistent.\n"
          ]
        }
      ]
    },
    {
      "cell_type": "markdown",
      "source": [
        "#1.3: Data visualization"
      ],
      "metadata": {
        "id": "yAzdsdr0OUO7"
      }
    },
    {
      "cell_type": "code",
      "source": [
        "df.loc[:, \"PJME_MW\"].plot(figsize=(10, 5))"
      ],
      "metadata": {
        "colab": {
          "base_uri": "https://localhost:8080/",
          "height": 461
        },
        "id": "1PiJrTy8i29T",
        "outputId": "0ed4ea10-85f8-4021-90d4-d2808e35eed3"
      },
      "execution_count": 30,
      "outputs": [
        {
          "output_type": "execute_result",
          "data": {
            "text/plain": [
              "<Axes: xlabel='Datetime'>"
            ]
          },
          "metadata": {},
          "execution_count": 30
        },
        {
          "output_type": "display_data",
          "data": {
            "text/plain": [
              "<Figure size 1000x500 with 1 Axes>"
            ],
            "image/png": "[encoded data removed]"
          },
          "metadata": {}
        }
      ]
    },
    {
      "cell_type": "markdown",
      "source": [
        "#2: Format conversion to GluonTS\n",
        "*  target = trained, predicted variable"
      ],
      "metadata": {
        "id": "e0j8S0S40Y_V"
      }
    },
    {
      "cell_type": "code",
      "source": [
        "prediction_length, freq = 24, \"1H\"\n",
        "# ds = PandasDataset.from_long_dataframe(df, target=\"PJME_MW\")\n",
        "ds = PandasDataset(df, target=\"PJME_MW\", freq=freq)\n",
        "ds"
      ],
      "metadata": {
        "colab": {
          "base_uri": "https://localhost:8080/"
        },
        "id": "JGXSBcoNcAXL",
        "outputId": "6ad0f73a-09ee-41bb-8f6d-83c90a55548b"
      },
      "execution_count": 32,
      "outputs": [
        {
          "output_type": "execute_result",
          "data": {
            "text/plain": [
              "PandasDataset<size=1, freq=1H, num_feat_dynamic_real=0, num_past_feat_dynamic_real=0, num_feat_static_real=0, num_feat_static_cat=0, static_cardinalities=[]>"
            ]
          },
          "metadata": {},
          "execution_count": 32
        }
      ]
    },
    {
      "cell_type": "code",
      "source": [
        "# from gluonts.dataset.pandas import PandasDataset\n",
        "\n",
        "#ds = PandasDataset.from_long_dataframe(df, target=\"PJME_MW\", item_id = \"item_id\")\n",
        "\n",
        "# Counting the number of time series entries\n",
        "num_time_series = sum(1 for _ in ds)\n",
        "print(f\"Number of time series entries: {num_time_series}\")\n",
        "\n",
        "# Inspecting the first few entries\n",
        "for i, entry in enumerate(ds):\n",
        "    if i < 5:  # Change this number to see more entries\n",
        "        print(f\"Entry {i}:\")\n",
        "        print(entry)\n",
        "        print(f\"Length of target in entry {i}: {len(entry['target'])}\\n\")"
      ],
      "metadata": {
        "colab": {
          "base_uri": "https://localhost:8080/"
        },
        "id": "H97sHMJ90TNt",
        "outputId": "65cf8fca-83f3-42ea-e03f-79f98b57b2d8"
      },
      "execution_count": 39,
      "outputs": [
        {
          "output_type": "stream",
          "name": "stdout",
          "text": [
            "Number of time series entries: 1\n",
            "Entry 0:\n",
            "{'start': Period('2002-01-02 00:00', 'H'), 'target': array([29563, 28121, 27437, ..., 35866, 34631, 31986])}\n",
            "Length of target in entry 0: 1392\n",
            "\n"
          ]
        }
      ]
    },
    {
      "cell_type": "code",
      "source": [
        "# To check duplicates\n",
        "\n",
        "ids = df.index\n",
        "df[ids.isin(ids[ids.duplicated()])].sort_values(\"Datetime\")"
      ],
      "metadata": {
        "colab": {
          "base_uri": "https://localhost:8080/",
          "height": 81
        },
        "id": "MzM4j24_y3lK",
        "outputId": "568facb8-c5b9-4ca4-ad33-c7062b52038b"
      },
      "execution_count": 34,
      "outputs": [
        {
          "output_type": "execute_result",
          "data": {
            "text/plain": [
              "Empty DataFrame\n",
              "Columns: [PJME_MW]\n",
              "Index: []"
            ],
            "text/html": [
              "\n",
              "  <div id=\"df-b2b031c8-9409-40c4-aa50-7cef4c4758c7\" class=\"colab-df-container\">\n",
              "    <div>\n",
              "<style scoped>\n",
              "    .dataframe tbody tr th:only-of-type {\n",
              "        vertical-align: middle;\n",
              "    }\n",
              "\n",
              "    .dataframe tbody tr th {\n",
              "        vertical-align: top;\n",
              "    }\n",
              "\n",
              "    .dataframe thead th {\n",
              "        text-align: right;\n",
              "    }\n",
              "</style>\n",
              "<table border=\"1\" class=\"dataframe\">\n",
              "  <thead>\n",
              "    <tr style=\"text-align: right;\">\n",
              "      <th></th>\n",
              "      <th>PJME_MW</th>\n",
              "    </tr>\n",
              "    <tr>\n",
              "      <th>Datetime</th>\n",
              "      <th></th>\n",
              "    </tr>\n",
              "  </thead>\n",
              "  <tbody>\n",
              "  </tbody>\n",
              "</table>\n",
              "</div>\n",
              "    <div class=\"colab-df-buttons\">\n",
              "\n",
              "  <div class=\"colab-df-container\">\n",
              "    <button class=\"colab-df-convert\" onclick=\"convertToInteractive('df-b2b031c8-9409-40c4-aa50-7cef4c4758c7')\"\n",
              "            title=\"Convert this dataframe to an interactive table.\"\n",
              "            style=\"display:none;\">\n",
              "\n",
              "  <svg xmlns=\"http://www.w3.org/2000/svg\" height=\"24px\" viewBox=\"0 -960 960 960\">\n",
              "    <path d=\"M120-120v-720h720v720H120Zm60-500h600v-160H180v160Zm220 220h160v-160H400v160Zm0 220h160v-160H400v160ZM180-400h160v-160H180v160Zm440 0h160v-160H620v160ZM180-180h160v-160H180v160Zm440 0h160v-160H620v160Z\"/>\n",
              "  </svg>\n",
              "    </button>\n",
              "\n",
              "  <style>\n",
              "    .colab-df-container {\n",
              "      display:flex;\n",
              "      gap: 12px;\n",
              "    }\n",
              "\n",
              "    .colab-df-convert {\n",
              "      background-color: #E8F0FE;\n",
              "      border: none;\n",
              "      border-radius: 50%;\n",
              "      cursor: pointer;\n",
              "      display: none;\n",
              "      fill: #1967D2;\n",
              "      height: 32px;\n",
              "      padding: 0 0 0 0;\n",
              "      width: 32px;\n",
              "    }\n",
              "\n",
              "    .colab-df-convert:hover {\n",
              "      background-color: #E2EBFA;\n",
              "      box-shadow: 0px 1px 2px rgba(60, 64, 67, 0.3), 0px 1px 3px 1px rgba(60, 64, 67, 0.15);\n",
              "      fill: #174EA6;\n",
              "    }\n",
              "\n",
              "    .colab-df-buttons div {\n",
              "      margin-bottom: 4px;\n",
              "    }\n",
              "\n",
              "    [theme=dark] .colab-df-convert {\n",
              "      background-color: #3B4455;\n",
              "      fill: #D2E3FC;\n",
              "    }\n",
              "\n",
              "    [theme=dark] .colab-df-convert:hover {\n",
              "      background-color: #434B5C;\n",
              "      box-shadow: 0px 1px 3px 1px rgba(0, 0, 0, 0.15);\n",
              "      filter: drop-shadow(0px 1px 2px rgba(0, 0, 0, 0.3));\n",
              "      fill: #FFFFFF;\n",
              "    }\n",
              "  </style>\n",
              "\n",
              "    <script>\n",
              "      const buttonEl =\n",
              "        document.querySelector('#df-b2b031c8-9409-40c4-aa50-7cef4c4758c7 button.colab-df-convert');\n",
              "      buttonEl.style.display =\n",
              "        google.colab.kernel.accessAllowed ? 'block' : 'none';\n",
              "\n",
              "      async function convertToInteractive(key) {\n",
              "        const element = document.querySelector('#df-b2b031c8-9409-40c4-aa50-7cef4c4758c7');\n",
              "        const dataTable =\n",
              "          await google.colab.kernel.invokeFunction('convertToInteractive',\n",
              "                                                    [key], {});\n",
              "        if (!dataTable) return;\n",
              "\n",
              "        const docLinkHtml = 'Like what you see? Visit the ' +\n",
              "          '<a target=\"_blank\" href=https://colab.research.google.com/notebooks/data_table.ipynb>data table notebook</a>'\n",
              "          + ' to learn more about interactive tables.';\n",
              "        element.innerHTML = '';\n",
              "        dataTable['output_type'] = 'display_data';\n",
              "        await google.colab.output.renderOutput(dataTable, element);\n",
              "        const docLink = document.createElement('div');\n",
              "        docLink.innerHTML = docLinkHtml;\n",
              "        element.appendChild(docLink);\n",
              "      }\n",
              "    </script>\n",
              "  </div>\n",
              "\n",
              "    </div>\n",
              "  </div>\n"
            ]
          },
          "metadata": {},
          "execution_count": 34
        }
      ]
    },
    {
      "cell_type": "markdown",
      "source": [
        "#2.1: Preprocess Data Entries before using GluonTS\n",
        "\n",
        "\n",
        "*   conversion into expected format in GluonTS\n",
        "*   assign the values and return them into a dictionary\n",
        "\n"
      ],
      "metadata": {
        "id": "aEzR468qO8Hn"
      }
    },
    {
      "cell_type": "code",
      "source": [
        "class ProcessStartField():\n",
        "    ts_id = 0 #init, bertambah setiap kali method __call__\n",
        "\n",
        "    def __call__(self, data): #__call__ method allow instance to be called like a function\n",
        "        data[\"start\"] = data[\"start\"].to_timestamp()#ubah format start ke timestamp as expected in Gluon\n",
        "        data[\"feat_static_cat\"] = [self.ts_id]#add variabel ke dalam feat_static_cat useful for multiple time series\n",
        "        self.ts_id += 1\n",
        "\n",
        "        return data"
      ],
      "metadata": {
        "id": "NS0WRZ3CHlSg"
      },
      "execution_count": 40,
      "outputs": []
    },
    {
      "cell_type": "markdown",
      "source": [
        "#2.2: Mapping dataset into instance\n",
        "* interact customized dataset with gluonTS library\n",
        "*  list_ds = list of dict where each of dict compatible with the structure defined my method \"features\"."
      ],
      "metadata": {
        "id": "T1SosehsVH_D"
      }
    },
    {
      "cell_type": "code",
      "source": [
        "from gluonts.itertools import Map\n",
        "\n",
        "process_start = ProcessStartField()#instance terhasil dari kelas ProcessStartField\n",
        "\n",
        "list_ds = list(Map(process_start, ds))#untuk terap process_start ke setiap entry ds\n",
        "\n",
        "list_ds"
      ],
      "metadata": {
        "colab": {
          "base_uri": "https://localhost:8080/"
        },
        "id": "qnSoyLnDHqH0",
        "outputId": "8eb7e0bf-6451-43d3-ffaf-79811920df71"
      },
      "execution_count": 41,
      "outputs": [
        {
          "output_type": "execute_result",
          "data": {
            "text/plain": [
              "[{'start': Timestamp('2002-01-02 00:00:00'),\n",
              "  'target': array([29563, 28121, 27437, ..., 35866, 34631, 31986]),\n",
              "  'feat_static_cat': [0]}]"
            ]
          },
          "metadata": {},
          "execution_count": 41
        }
      ]
    },
    {
      "cell_type": "markdown",
      "source": [
        "#2.3: Manage Dataset with Machine Learning Library made by Huggingsface\n",
        "\n",
        "* Feature class is used to define the data type and structure\n",
        "* Value:  single value of timestamp, target is defined as 32 bit precision\n",
        "* Sequence: categorical value which is as unsigned 64 bit integers in this case is None\n"
      ],
      "metadata": {
        "id": "DQCncxAGV5K4"
      }
    },
    {
      "cell_type": "code",
      "source": [
        "from datasets import Dataset, Features, Value, Sequence\n",
        "\n",
        "features  = Features(#setup kolum contoh start adalah time stamp dan target ialah\n",
        "    {\n",
        "        \"start\": Value(\"timestamp[s]\"),\n",
        "        \"target\": Sequence(Value(\"float32\")),\n",
        "        \"feat_static_cat\": Sequence(Value(\"uint64\")),\n",
        "        # \"feat_static_real\":  Sequence(Value(\"float32\")),\n",
        "        # \"feat_dynamic_real\": Sequence(Sequence(Value(\"uint64\"))),\n",
        "        # \"feat_dynamic_cat\": Sequence(Sequence(Value(\"uint64\"))),\n",
        "       # \"item_id\": Value(\"string\"),\n",
        "    }\n",
        ")"
      ],
      "metadata": {
        "id": "sB197WNlHxDu"
      },
      "execution_count": 48,
      "outputs": []
    },
    {
      "cell_type": "code",
      "source": [
        "dataset = Dataset.from_list(list_ds, features=features)\n",
        "dataset"
      ],
      "metadata": {
        "colab": {
          "base_uri": "https://localhost:8080/"
        },
        "id": "zZgQv5grIhAL",
        "outputId": "9d907eab-a457-45c2-9c8a-13f7979543fd"
      },
      "execution_count": 49,
      "outputs": [
        {
          "output_type": "execute_result",
          "data": {
            "text/plain": [
              "Dataset({\n",
              "    features: ['start', 'target', 'feat_static_cat'],\n",
              "    num_rows: 1\n",
              "})"
            ]
          },
          "metadata": {},
          "execution_count": 49
        }
      ]
    },
    {
      "cell_type": "code",
      "source": [
        "def train_and_predict(dataset, estimator):\n",
        "    predictor = estimator.train(dataset)\n",
        "    forecast_it, ts_it = make_evaluation_predictions(\n",
        "        dataset=dataset, predictor=predictor\n",
        "    )\n",
        "    evaluator = Evaluator(quantiles=(np.arange(20) / 20.0)[1:])\n",
        "    agg_metrics, item_metrics = evaluator(ts_it, forecast_it, num_series=len(dataset))\n",
        "    return agg_metrics[\"MSE\"]\n",
        "\n",
        "\n",
        "estimator = DeepAREstimator(\n",
        "    freq=freq, prediction_length=prediction_length, trainer=Trainer(epochs=1)\n",
        ")"
      ],
      "metadata": {
        "id": "EYYYAzNQiJ05"
      },
      "execution_count": 36,
      "outputs": []
    },
    {
      "cell_type": "code",
      "source": [
        "train_and_predict(ds, estimator)"
      ],
      "metadata": {
        "colab": {
          "base_uri": "https://localhost:8080/"
        },
        "id": "HhBMGhkekBQc",
        "outputId": "95402e7b-ba5c-4b95-bc88-7778102ac392"
      },
      "execution_count": 37,
      "outputs": [
        {
          "output_type": "stream",
          "name": "stderr",
          "text": [
            "100%|██████████| 50/50 [00:10<00:00,  4.98it/s, epoch=1/1, avg_epoch_loss=9.57]\n",
            "Running evaluation: 100%|██████████| 1/1 [00:00<00:00,  2.48it/s]\n"
          ]
        },
        {
          "output_type": "execute_result",
          "data": {
            "text/plain": [
              "11947631.486720562"
            ]
          },
          "metadata": {},
          "execution_count": 37
        }
      ]
    },
    {
      "cell_type": "code",
      "source": [
        "from google.colab import drive\n",
        "drive.mount('/content/drive')\n"
      ],
      "metadata": {
        "colab": {
          "base_uri": "https://localhost:8080/"
        },
        "id": "_Ie_j5ddGc2O",
        "outputId": "9130bc1d-034a-434f-c528-9627d9d0e083"
      },
      "execution_count": 51,
      "outputs": [
        {
          "output_type": "stream",
          "name": "stdout",
          "text": [
            "Mounted at /content/drive\n"
          ]
        }
      ]
    },
    {
      "cell_type": "code",
      "source": [
        "!git config --global user.email \"herrzainulhakimdalim@gmail.com\"\n",
        "!git config --global user.name \"hakim-code\"\n",
        "\n"
      ],
      "metadata": {
        "id": "1K3RJh4kdVnF"
      },
      "execution_count": 54,
      "outputs": []
    },
    {
      "cell_type": "code",
      "source": [
        "!git clone \"https://github.com/hakim-code/CSV-to-GluonTS-Converter\"\n"
      ],
      "metadata": {
        "colab": {
          "base_uri": "https://localhost:8080/"
        },
        "id": "L3vAtTQ_eaHa",
        "outputId": "515bff56-f6d1-4a86-d9cd-c57f03bd6ee0"
      },
      "execution_count": 60,
      "outputs": [
        {
          "output_type": "stream",
          "name": "stdout",
          "text": [
            "Cloning into 'CSV-to-GluonTS-Converter'...\n",
            "remote: Enumerating objects: 9, done.\u001b[K\n",
            "remote: Counting objects:  11% (1/9)\u001b[K\rremote: Counting objects:  22% (2/9)\u001b[K\rremote: Counting objects:  33% (3/9)\u001b[K\rremote: Counting objects:  44% (4/9)\u001b[K\rremote: Counting objects:  55% (5/9)\u001b[K\rremote: Counting objects:  66% (6/9)\u001b[K\rremote: Counting objects:  77% (7/9)\u001b[K\rremote: Counting objects:  88% (8/9)\u001b[K\rremote: Counting objects: 100% (9/9)\u001b[K\rremote: Counting objects: 100% (9/9), done.\u001b[K\n",
            "remote: Compressing objects: 100% (7/7), done.\u001b[K\n",
            "remote: Total 9 (delta 0), reused 0 (delta 0), pack-reused 0\u001b[K\n",
            "Receiving objects: 100% (9/9), 115.79 KiB | 1.68 MiB/s, done.\n"
          ]
        }
      ]
    },
    {
      "cell_type": "code",
      "source": [
        "!git add Data Format csv to gluonTS Converter.ipynb\n",
        "# !git commit -m \"Update: Structures and description wise\""
      ],
      "metadata": {
        "colab": {
          "base_uri": "https://localhost:8080/"
        },
        "id": "FyNwFvXfdjnj",
        "outputId": "ddfc9479-48dd-4c89-b5dd-9866cd12f79a"
      },
      "execution_count": 57,
      "outputs": [
        {
          "output_type": "stream",
          "name": "stdout",
          "text": [
            "fatal: not a git repository (or any of the parent directories): .git\n"
          ]
        }
      ]
    },
    {
      "cell_type": "code",
      "source": [],
      "metadata": {
        "id": "Ecap37csd27P"
      },
      "execution_count": null,
      "outputs": []
    }
  ]
}